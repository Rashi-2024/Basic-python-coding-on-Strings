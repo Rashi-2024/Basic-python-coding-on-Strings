{
 "cells": [
  {
   "cell_type": "code",
   "execution_count": 9,
   "id": "68024e01",
   "metadata": {},
   "outputs": [
    {
     "name": "stdout",
     "output_type": "stream",
     "text": [
      "ENCRYPT\n",
      "Enter a string: rashi\n",
      "Emcrypted msg:  udvkl\n",
      "DECRYPT\n",
      "Decrypted msg:  rashi\n"
     ]
    }
   ],
   "source": [
    "print(\"ENCRYPT\")\n",
    "msg = input (\"Enter a string: \")\n",
    "encmsg = \"\"\n",
    "for ch in msg:\n",
    "    asc_e = ord(ch) + 3\n",
    "    encd_e = chr(asc_e)\n",
    "    encmsg = encmsg + encd_e\n",
    "print (\"Emcrypted msg: \", encmsg)\n",
    "\n",
    "print (\"DECRYPT\")\n",
    "decmsg = \"\"\n",
    "for ch in encmsg:\n",
    "    asc_d = ord(ch) -3\n",
    "    encd_d = chr(asc_d)\n",
    "    decmsg = decmsg + encd_d\n",
    "print (\"Decrypted msg: \", decmsg)"
   ]
  },
  {
   "cell_type": "code",
   "execution_count": null,
   "id": "fecb3687",
   "metadata": {},
   "outputs": [],
   "source": []
  }
 ],
 "metadata": {
  "kernelspec": {
   "display_name": "Python 3 (ipykernel)",
   "language": "python",
   "name": "python3"
  },
  "language_info": {
   "codemirror_mode": {
    "name": "ipython",
    "version": 3
   },
   "file_extension": ".py",
   "mimetype": "text/x-python",
   "name": "python",
   "nbconvert_exporter": "python",
   "pygments_lexer": "ipython3",
   "version": "3.11.4"
  }
 },
 "nbformat": 4,
 "nbformat_minor": 5
}
