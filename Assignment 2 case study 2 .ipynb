{
 "cells": [
  {
   "cell_type": "code",
   "execution_count": null,
   "id": "ac4cbcb3",
   "metadata": {},
   "outputs": [],
   "source": [
    "print (\"Q1\")\n",
    "nums =set([1,1,2,3,3,3,4,4])\n",
    "print(len(nums))"
   ]
  },
  {
   "cell_type": "code",
   "execution_count": null,
   "id": "367cd184",
   "metadata": {},
   "outputs": [],
   "source": [
    "print(\"Q2\")\n",
    "d ={\"john\":40, \"peter\":45}\n",
    "print(list(d.keys()))"
   ]
  },
  {
   "cell_type": "markdown",
   "id": "2066f314",
   "metadata": {},
   "source": [
    "1. At least 1 letter between [a-z]\n",
    "2. At least 1 number between [0-9]\n",
    "3. At least 1 letter between [A-Z]\n",
    "4. At least 1 character from [$#@]\n",
    "5. Minimum length of transaction password: 6\n",
    "6. Maximum length of transaction password: 12"
   ]
  },
  {
   "cell_type": "code",
   "execution_count": null,
   "id": "5f12c41b",
   "metadata": {},
   "outputs": [],
   "source": [
    "print(\"Q3\")\n",
    "import re\n",
    "password = input(\"Enter a password\")\n",
    "print (password)\n",
    "\n",
    "flag=0\n",
    "\n",
    "if not re.search('[A-Z]', password):\n",
    "    print (\"Password must contain an upper case letter\")\n",
    "    flag=1\n",
    "if not re.search('[a-z]', password):\n",
    "    print (\"Password must contain a lower case letter\")\n",
    "    flag=1\n",
    "if not re.search('[0-9]', password):\n",
    "    print (\"Password must contain a digit\")\n",
    "    flag=1\n",
    "if not re.search('[$#@]', password):\n",
    "    print (\"Password must contain a special character - either $ or # or @\")\n",
    "    flag=1\n",
    "if (len(password)>12 and len(password)<6):\n",
    "    print (\"Password length must be between 6-12 characters\")\n",
    "    flag=1\n",
    "if re.search('\\s', password):\n",
    "    print (\"Password must not contain a blank space\")\n",
    "    flag=1\n",
    "\n",
    "if flag == 1:\n",
    "    pass\n",
    "else:\n",
    "    print (\"You entered correct password\")\n"
   ]
  },
  {
   "cell_type": "code",
   "execution_count": null,
   "id": "0f6b8a77",
   "metadata": {},
   "outputs": [],
   "source": [
    "print (\"Q4 - For loop that prints all elements of a list and their position in the list.\")\n",
    "a = [4,7,3,2,5,9]\n",
    "\n",
    "for i in range (0, len(a)):\n",
    "    print(\"the value at position\", i, \"is\", a[i])\n"
   ]
  },
  {
   "cell_type": "code",
   "execution_count": null,
   "id": "5e50edb2",
   "metadata": {},
   "outputs": [],
   "source": [
    "print(\"Q5 - The characters at even places in a string\")\n",
    "string = input(\"Enter a string\")\n",
    "for i in range (0, len(string), 2):\n",
    "    print(string[i], end=\"\")"
   ]
  },
  {
   "cell_type": "code",
   "execution_count": null,
   "id": "dfa17bc7",
   "metadata": {},
   "outputs": [],
   "source": [
    "print (\"Q6 - The reverse order of a string\")\n",
    "string = input(\"Enter a string\")\n",
    "for i in range(len(string)-1, -1, -1):\n",
    "    print (string[i], end=\"\")\n"
   ]
  },
  {
   "cell_type": "code",
   "execution_count": 4,
   "id": "661ea4a5",
   "metadata": {},
   "outputs": [
    {
     "name": "stdout",
     "output_type": "stream",
     "text": [
      "A program that counts and prints the numbers of each character in a string input by the console\n",
      "enter a string: rashiaa\n",
      "{'r': 1, 'a': 3, 's': 1, 'h': 1, 'i': 1}\n"
     ]
    }
   ],
   "source": [
    "print (\"Q7 - A program that counts and prints the numbers of each character in a string input by the console\")\n",
    "\n",
    "string = str(input(\"enter a string: \"))\n",
    "\n",
    "dict1 = {}\n",
    "\n",
    "for i in string:\n",
    "    if i not in dict1:\n",
    "        dict1[i] = 1\n",
    "    else:\n",
    "        dict1[i] += 1\n",
    "\n",
    "print (dict1)     "
   ]
  },
  {
   "cell_type": "code",
   "execution_count": null,
   "id": "059d47a0",
   "metadata": {},
   "outputs": [],
   "source": [
    "print (\"Q8 - Program to make a list whose elements are intersection of the above given lists.\")\n",
    "list1 = [1,3,6,78,35,55] \n",
    "list2 = [12,24,35,24,88,120,155]\n",
    "\n",
    "for i in list1:\n",
    "    for j in list2:\n",
    "        if i == j:\n",
    "            print (i)\n",
    "        else:\n",
    "            continue"
   ]
  },
  {
   "cell_type": "code",
   "execution_count": null,
   "id": "85371e66",
   "metadata": {},
   "outputs": [],
   "source": [
    "print (\"Q9 - A program to print the list after removing the value 24 in [12,24,35,24,88,120,155]\")\n",
    "list1 = [12,24,35,24,88,120,155]\n",
    "print (list1.pop(1))\n",
    "print (list1.pop(2))\n",
    "print (list1)"
   ]
  },
  {
   "cell_type": "code",
   "execution_count": null,
   "id": "f58dea28",
   "metadata": {},
   "outputs": [],
   "source": [
    "print (\"Q 10 - A program to print the list after removing the 0th,4th,and 5th numbers in [12,24,35,70,88,120,155]\")\n",
    "list1 = [12,24,35,70,88,120,155]\n",
    "print (list1.pop(0))\n",
    "print (list1.pop(3))\n",
    "print (list1.pop(3))\n",
    "print (list1)"
   ]
  },
  {
   "cell_type": "code",
   "execution_count": null,
   "id": "3faa4a9c",
   "metadata": {},
   "outputs": [],
   "source": [
    "print (\"Q 11 - A program to print the list after removing deleted numbers that are divisible by 5 and 7 in [12,24,35,70,88,120,155].\")\n",
    "list1 = [12,24,35,70,88,120,155]\n",
    "for i in list1:\n",
    "    if (i%5 == 0 and i%7 == 0):\n",
    "        list1.pop(list1.index(i))\n",
    "    else:\n",
    "        print(i)"
   ]
  },
  {
   "cell_type": "code",
   "execution_count": null,
   "id": "d053869c",
   "metadata": {},
   "outputs": [],
   "source": [
    "print (\"Q12 - A program  to  compute  1/2+2/3+3/4+...+n/n+1  with  a  given  n  input  by console (n>0).\")\n",
    "n = int(input(\"enter the value of n, n>0\"))\n",
    "i=1\n",
    "num = float(0)\n",
    "while (i<n+1):\n",
    "    num = num + float(i/(i+1))\n",
    "    i = i+1\n",
    "print (num)"
   ]
  }
 ],
 "metadata": {
  "kernelspec": {
   "display_name": "Python 3 (ipykernel)",
   "language": "python",
   "name": "python3"
  },
  "language_info": {
   "codemirror_mode": {
    "name": "ipython",
    "version": 3
   },
   "file_extension": ".py",
   "mimetype": "text/x-python",
   "name": "python",
   "nbconvert_exporter": "python",
   "pygments_lexer": "ipython3",
   "version": "3.11.4"
  }
 },
 "nbformat": 4,
 "nbformat_minor": 5
}
