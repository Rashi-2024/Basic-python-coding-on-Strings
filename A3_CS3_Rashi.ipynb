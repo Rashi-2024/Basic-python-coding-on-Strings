{
 "cells": [
  {
   "cell_type": "code",
   "execution_count": 1,
   "id": "004cdd19",
   "metadata": {},
   "outputs": [],
   "source": [
    "import pandas as pd \n",
    "import numpy as np"
   ]
  },
  {
   "cell_type": "code",
   "execution_count": 2,
   "id": "b890d5ce",
   "metadata": {},
   "outputs": [
    {
     "data": {
      "text/html": [
       "<div>\n",
       "<style scoped>\n",
       "    .dataframe tbody tr th:only-of-type {\n",
       "        vertical-align: middle;\n",
       "    }\n",
       "\n",
       "    .dataframe tbody tr th {\n",
       "        vertical-align: top;\n",
       "    }\n",
       "\n",
       "    .dataframe thead th {\n",
       "        text-align: right;\n",
       "    }\n",
       "</style>\n",
       "<table border=\"1\" class=\"dataframe\">\n",
       "  <thead>\n",
       "    <tr style=\"text-align: right;\">\n",
       "      <th></th>\n",
       "      <th>0</th>\n",
       "      <th>1</th>\n",
       "      <th>2</th>\n",
       "    </tr>\n",
       "  </thead>\n",
       "  <tbody>\n",
       "    <tr>\n",
       "      <th>0</th>\n",
       "      <td>Braund</td>\n",
       "      <td>Mr. Owen Harris</td>\n",
       "      <td>1</td>\n",
       "    </tr>\n",
       "    <tr>\n",
       "      <th>1</th>\n",
       "      <td>Heikkinen</td>\n",
       "      <td>Miss. Laina</td>\n",
       "      <td>0</td>\n",
       "    </tr>\n",
       "    <tr>\n",
       "      <th>2</th>\n",
       "      <td>Allen</td>\n",
       "      <td>Mr. William Henry</td>\n",
       "      <td>0</td>\n",
       "    </tr>\n",
       "    <tr>\n",
       "      <th>3</th>\n",
       "      <td>Moran</td>\n",
       "      <td>Mr. James</td>\n",
       "      <td>0</td>\n",
       "    </tr>\n",
       "    <tr>\n",
       "      <th>4</th>\n",
       "      <td>McCarthy</td>\n",
       "      <td>Mr. Timothy J</td>\n",
       "      <td>0</td>\n",
       "    </tr>\n",
       "    <tr>\n",
       "      <th>...</th>\n",
       "      <td>...</td>\n",
       "      <td>...</td>\n",
       "      <td>...</td>\n",
       "    </tr>\n",
       "    <tr>\n",
       "      <th>527</th>\n",
       "      <td>Banfield</td>\n",
       "      <td>Mr. Frederick James</td>\n",
       "      <td>0</td>\n",
       "    </tr>\n",
       "    <tr>\n",
       "      <th>528</th>\n",
       "      <td>Sutehall</td>\n",
       "      <td>Mr. Henry Jr</td>\n",
       "      <td>0</td>\n",
       "    </tr>\n",
       "    <tr>\n",
       "      <th>529</th>\n",
       "      <td>Montvila</td>\n",
       "      <td>Rev. Juozas</td>\n",
       "      <td>0</td>\n",
       "    </tr>\n",
       "    <tr>\n",
       "      <th>530</th>\n",
       "      <td>Behr</td>\n",
       "      <td>Mr. Karl Howell</td>\n",
       "      <td>0</td>\n",
       "    </tr>\n",
       "    <tr>\n",
       "      <th>531</th>\n",
       "      <td>Dooley</td>\n",
       "      <td>Mr. Patrick</td>\n",
       "      <td>0</td>\n",
       "    </tr>\n",
       "  </tbody>\n",
       "</table>\n",
       "<p>532 rows × 3 columns</p>\n",
       "</div>"
      ],
      "text/plain": [
       "              0                      1  2\n",
       "0        Braund       Mr. Owen Harris   1\n",
       "1     Heikkinen           Miss. Laina   0\n",
       "2         Allen     Mr. William Henry   0\n",
       "3         Moran             Mr. James   0\n",
       "4      McCarthy         Mr. Timothy J   0\n",
       "..          ...                    ... ..\n",
       "527    Banfield   Mr. Frederick James   0\n",
       "528    Sutehall          Mr. Henry Jr   0\n",
       "529    Montvila           Rev. Juozas   0\n",
       "530        Behr       Mr. Karl Howell   0\n",
       "531      Dooley           Mr. Patrick   0\n",
       "\n",
       "[532 rows x 3 columns]"
      ]
     },
     "execution_count": 2,
     "metadata": {},
     "output_type": "execute_result"
    }
   ],
   "source": [
    "df= pd.read_csv(r'C:\\Users\\Rameshwar Agarwal\\Desktop\\python\\assignment 3\\FairDealCustomerData.csv', header=None)\n",
    "df"
   ]
  },
  {
   "cell_type": "code",
   "execution_count": 5,
   "id": "03b94681",
   "metadata": {},
   "outputs": [
    {
     "name": "stdout",
     "output_type": "stream",
     "text": [
      "First Customer Title is Mr.\n",
      "Second Customer Title is Mrs.\n",
      "First Customer Title is Mr.\n"
     ]
    }
   ],
   "source": [
    "class Customer:\n",
    "    title = \"\"\n",
    "    fname = \"\"\n",
    "    lname = \"\"\n",
    "    isblacklisted = 0;\n",
    "\n",
    "    def __init__(self):\n",
    "        self.title = \"\"\n",
    "\n",
    "    def __str__(self):\n",
    "        return \"\\n\"+\" Title:\" + self.title + \"\\n\"+\" First Name:\" + self.fname +\"\\n\"+ \" Last Name:\" + self.lname +\"\\n\"+ \" Blacklisted:\" + self.isblacklisted\n",
    "\n",
    "    def setIsblacklisted(self,isblacklisted):\n",
    "        self.isblacklisted = isblacklisted\n",
    "\n",
    "    def isblacklisted(self):\n",
    "        return self.isblacklisted\n",
    "\n",
    "    def setTitle(self,title):\n",
    "        self.title = title\n",
    "\n",
    "    def getTitle(self):\n",
    "        return self.title\n",
    "\n",
    "    def setFname(self,fname):\n",
    "        self.fname = fname\n",
    "\n",
    "    def getFname(self):\n",
    "        return self.fname\n",
    "\n",
    "    def setLname(self,lname):\n",
    "        self.lname = lname\n",
    "\n",
    "    def getLname(self):\n",
    "        return self.lname\n",
    "\n",
    "\n",
    "\n",
    "customer1 = Customer()\n",
    "customer1.setTitle(\"Mr.\")\n",
    "customer1.setFname(\"Barack\")\n",
    "customer1.setLname(\"Obama\")\n",
    "\n",
    "customer2 = Customer()\n",
    "customer2.setTitle(\"Mrs.\")\n",
    "customer2.setFname(\"George\")\n",
    "customer2.setLname(\"Bush\")\n",
    "\n",
    "print(\"First Customer Title is\", customer1.getTitle())\n",
    "print(\"Second Customer Title is\", customer2.getTitle())\n",
    "print(\"First Customer Title is\", customer1.getTitle())\n"
   ]
  },
  {
   "cell_type": "code",
   "execution_count": 6,
   "id": "e7672e37",
   "metadata": {},
   "outputs": [],
   "source": [
    "import re \n",
    "class CustomerNotAllowed(Exception):\n",
    "\n",
    "    def __init__(self, value):\n",
    "        self.value = value\n",
    "\n",
    "    def __str__(self):\n",
    "        return repr(self.value)\n"
   ]
  },
  {
   "cell_type": "code",
   "execution_count": 7,
   "id": "428e2b61",
   "metadata": {},
   "outputs": [],
   "source": [
    "def createCustomerObject(custdata):\n",
    "    \n",
    "    customer = Customer()\n",
    "    match = re.search(' ([A-Za-z]+)\\.', custdata) \n",
    "    title = \"\"\n",
    "    if( match is not None):\n",
    "        title = match.group(0)\n",
    "        customer.setTitle(title.strip())\n",
    "    data = (custdata.replace(title,'')).split(',',2) \n",
    "    customer.setLname(data[0].strip())\n",
    "    customer.setFname(data[1].strip())\n",
    "    customer.setIsblacklisted(data[2])\n",
    "    return customer"
   ]
  },
  {
   "cell_type": "code",
   "execution_count": 11,
   "id": "09552f52",
   "metadata": {},
   "outputs": [],
   "source": [
    "def createOrder(customer,productname):\n",
    "\n",
    "    if customer.isblacklisted == \"1\": \n",
    "        raise CustomerNotAllowed(\"Customer is Black Listed:\" + customer.__str__())\n",
    "    else:\n",
    "        print(\" Order created successfully for:\\n\" + customer.__str__())\n"
   ]
  },
  {
   "cell_type": "code",
   "execution_count": 14,
   "id": "766fd781",
   "metadata": {},
   "outputs": [
    {
     "name": "stdout",
     "output_type": "stream",
     "text": [
      "No . of customers read from file:\n",
      " 532\n"
     ]
    }
   ],
   "source": [
    "customer_file = open(r'C:\\Users\\Rameshwar Agarwal\\Desktop\\python\\assignment 3\\FairDealCustomerData.csv')\n",
    "customerlist = [] \n",
    "\n",
    "for data in customer_file:\n",
    "    customerlist.append(createCustomerObject(data.rstrip('\\n')))\n",
    "\n",
    "customer_file.close()\n",
    "print (\"No . of customers read from file:\\n\",len(customerlist))\n"
   ]
  },
  {
   "cell_type": "code",
   "execution_count": 15,
   "id": "c4056b16",
   "metadata": {},
   "outputs": [
    {
     "name": "stdout",
     "output_type": "stream",
     "text": [
      " Exception Customer NotAllowed handled message\n",
      " 'Customer is Black Listed:\\n Title:Mr.\\n First Name:Owen Harris\\n Last Name:Braund\\n Blacklisted:1'\n",
      " Order created successfully for:\n",
      "\n",
      " Title:Miss.\n",
      " First Name:Laina\n",
      " Last Name:Heikkinen\n",
      " Blacklisted:0\n",
      "End of Program\n"
     ]
    }
   ],
   "source": [
    "for i in range(0,2):\n",
    "    try:\n",
    "        createOrder(customerlist[i],\" LEDTV\")\n",
    "    except CustomerNotAllowed as cne:\n",
    "        print(\" Exception Customer NotAllowed handled message\\n\", cne)\n",
    "\n",
    "print (\"End of Program\")"
   ]
  },
  {
   "cell_type": "code",
   "execution_count": null,
   "id": "095fe610",
   "metadata": {},
   "outputs": [],
   "source": []
  }
 ],
 "metadata": {
  "kernelspec": {
   "display_name": "Python 3 (ipykernel)",
   "language": "python",
   "name": "python3"
  },
  "language_info": {
   "codemirror_mode": {
    "name": "ipython",
    "version": 3
   },
   "file_extension": ".py",
   "mimetype": "text/x-python",
   "name": "python",
   "nbconvert_exporter": "python",
   "pygments_lexer": "ipython3",
   "version": "3.11.5"
  }
 },
 "nbformat": 4,
 "nbformat_minor": 5
}
