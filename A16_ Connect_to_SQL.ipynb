{
 "cells": [
  {
   "cell_type": "code",
   "execution_count": 1,
   "id": "68fa8804",
   "metadata": {},
   "outputs": [
    {
     "name": "stdout",
     "output_type": "stream",
     "text": [
      "^C\n"
     ]
    }
   ],
   "source": [
    "!pip install pyodbc"
   ]
  },
  {
   "cell_type": "code",
   "execution_count": 20,
   "id": "bcf2f242",
   "metadata": {},
   "outputs": [
    {
     "name": "stdout",
     "output_type": "stream",
     "text": [
      "<pyodbc.Connection object at 0x000001858CF25480>\n"
     ]
    }
   ],
   "source": [
    "import pyodbc \n",
    "\n",
    "connection = pyodbc.connect('Driver={SQL Server};' 'Server=RAMESHWAR;'\n",
    "                            'Database=retail;' 'Trusted_connection=yes;')\n",
    "print(connection)\n",
    "\n",
    "cursor = connection.cursor()"
   ]
  },
  {
   "cell_type": "code",
   "execution_count": 4,
   "id": "d3f59e90",
   "metadata": {},
   "outputs": [
    {
     "data": {
      "text/plain": [
       "<pyodbc.Cursor at 0x1858c3dd7b0>"
      ]
     },
     "execution_count": 4,
     "metadata": {},
     "output_type": "execute_result"
    }
   ],
   "source": [
    "show_db_query = \"use retail\"\n",
    "\n",
    "cursor.execute(show_db_query)"
   ]
  },
  {
   "cell_type": "code",
   "execution_count": 5,
   "id": "a47c671e",
   "metadata": {},
   "outputs": [
    {
     "data": {
      "text/plain": [
       "<pyodbc.Cursor at 0x1858c3dde30>"
      ]
     },
     "execution_count": 5,
     "metadata": {},
     "output_type": "execute_result"
    }
   ],
   "source": [
    "create_cust_table_query = \"CREATE TABLE customers(id INT PRIMARY KEY, Age int, Name VARCHAR(100), male_female varchar(10));\"\n",
    "\n",
    "cursor.execute(create_cust_table_query)"
   ]
  },
  {
   "cell_type": "code",
   "execution_count": 6,
   "id": "025e8634",
   "metadata": {},
   "outputs": [
    {
     "data": {
      "text/plain": [
       "<pyodbc.Cursor at 0x1858c3dde30>"
      ]
     },
     "execution_count": 6,
     "metadata": {},
     "output_type": "execute_result"
    }
   ],
   "source": [
    "insert_cust_query = \"\"\"INSERT INTO customers VALUES \n",
    "                       (1001,34,'Austin','male'),\n",
    "                       (1002,37,'Houston','male'),\n",
    "                       (1003,25,'Austin','female'),\n",
    "                       (1004,28,'Houston','female'),\n",
    "                       (1005,22,'Dallas','male')\"\"\"\n",
    "cursor.execute(insert_cust_query)"
   ]
  },
  {
   "cell_type": "code",
   "execution_count": 7,
   "id": "67189a78",
   "metadata": {},
   "outputs": [
    {
     "name": "stdout",
     "output_type": "stream",
     "text": [
      "[(1001, 34, 'Austin', 'male'), (1003, 25, 'Austin', 'female')]\n"
     ]
    }
   ],
   "source": [
    "show_table_query = \"select * from customers where Name = 'Austin'\"\n",
    "\n",
    "cursor.execute(show_table_query)\n",
    "print(cursor.fetchall())"
   ]
  },
  {
   "cell_type": "code",
   "execution_count": 8,
   "id": "5d4b48fe",
   "metadata": {},
   "outputs": [
    {
     "name": "stdout",
     "output_type": "stream",
     "text": [
      "[('Austin', ), ('Dallas', ), ('Houston', )]\n"
     ]
    }
   ],
   "source": [
    "show_table_query = \"select Name from customers group by Name\"\n",
    "\n",
    "cursor.execute(show_table_query)\n",
    "print(cursor.fetchall())"
   ]
  },
  {
   "cell_type": "code",
   "execution_count": null,
   "id": "16d42dc8",
   "metadata": {},
   "outputs": [],
   "source": [
    "show_table_query = \"select male_female from customers group by male_female\"\n",
    "\n",
    "cursor.execute(show_table_query)\n",
    "print(cursor.fetchall())"
   ]
  },
  {
   "cell_type": "code",
   "execution_count": 19,
   "id": "002bab68",
   "metadata": {},
   "outputs": [
    {
     "data": {
      "text/plain": [
       "<pyodbc.Cursor at 0x1858c3dde30>"
      ]
     },
     "execution_count": 19,
     "metadata": {},
     "output_type": "execute_result"
    }
   ],
   "source": [
    "drop_orders_query= \"drop table customers;\"\n",
    "cursor.execute(drop_orders_query)"
   ]
  },
  {
   "cell_type": "code",
   "execution_count": 11,
   "id": "fd8f2bbb",
   "metadata": {},
   "outputs": [
    {
     "data": {
      "text/plain": [
       "<pyodbc.Cursor at 0x1858c3dde30>"
      ]
     },
     "execution_count": 11,
     "metadata": {},
     "output_type": "execute_result"
    }
   ],
   "source": [
    "create_orders_table_query = \"\"\"CREATE TABLE orders(date date, Amount int);\"\"\"\n",
    "cursor.execute(create_orders_table_query)"
   ]
  },
  {
   "cell_type": "code",
   "execution_count": 12,
   "id": "c15233cd",
   "metadata": {},
   "outputs": [
    {
     "data": {
      "text/plain": [
       "<pyodbc.Cursor at 0x1858c3dde30>"
      ]
     },
     "execution_count": 12,
     "metadata": {},
     "output_type": "execute_result"
    }
   ],
   "source": [
    "add_new_column_query = \"Alter table orders add is_sale varchar(10)\"\n",
    "cursor.execute(add_new_column_query)"
   ]
  },
  {
   "cell_type": "code",
   "execution_count": 13,
   "id": "7d2ab8f8",
   "metadata": {},
   "outputs": [
    {
     "data": {
      "text/plain": [
       "<pyodbc.Cursor at 0x1858c3dde30>"
      ]
     },
     "execution_count": 13,
     "metadata": {},
     "output_type": "execute_result"
    }
   ],
   "source": [
    "insert_orders_query = \"\"\"INSERT INTO orders VALUES\n",
    "                         ('2022-10-1',100.25,1),\n",
    "                         ('2022-10-2',200.75,2),\n",
    "                         ('2022-10-3',500.00,3),\n",
    "                         ('2022-10-3',600.00,4),\n",
    "                         ('2022-10-4',600.00,5)\"\"\"\n",
    "cursor.execute(insert_orders_query)"
   ]
  },
  {
   "cell_type": "code",
   "execution_count": 14,
   "id": "7c3c26ed",
   "metadata": {},
   "outputs": [
    {
     "name": "stdout",
     "output_type": "stream",
     "text": [
      "[('2022-10-03', 500, '3'), ('2022-10-03', 600, '4')]\n"
     ]
    }
   ],
   "source": [
    "show_table_query = \"select * from orders where date = '2022-10-03'\"\n",
    "\n",
    "cursor.execute(show_table_query)\n",
    "print(cursor.fetchall())"
   ]
  },
  {
   "cell_type": "code",
   "execution_count": 15,
   "id": "d57792c5",
   "metadata": {},
   "outputs": [
    {
     "name": "stdout",
     "output_type": "stream",
     "text": [
      "[('2022-10-03', 500, '3'), ('2022-10-03', 600, '4'), ('2022-10-04', 600, '5')]\n"
     ]
    }
   ],
   "source": [
    "show_table_query = \"select * from orders where Amount>300\"\n",
    "\n",
    "cursor.execute(show_table_query)\n",
    "print(cursor.fetchall())"
   ]
  },
  {
   "cell_type": "code",
   "execution_count": 16,
   "id": "839717bc",
   "metadata": {},
   "outputs": [
    {
     "name": "stdout",
     "output_type": "stream",
     "text": [
      "[('2022-10-03', 600, '4'), ('2022-10-03', 500, '3')]\n"
     ]
    }
   ],
   "source": [
    "show_table_query = \"select * from orders where date = '2022-10-03' order by Amount DESC\"\n",
    "\n",
    "cursor.execute(show_table_query)\n",
    "print(cursor.fetchall())"
   ]
  },
  {
   "cell_type": "code",
   "execution_count": 17,
   "id": "5fd6c309",
   "metadata": {},
   "outputs": [
    {
     "name": "stdout",
     "output_type": "stream",
     "text": [
      "[(4, )]\n"
     ]
    }
   ],
   "source": [
    "count_distinct_query = \"SELECT COUNT(DISTINCT date) from orders\"\n",
    "\n",
    "cursor.execute(count_distinct_query)\n",
    "print(cursor.fetchall())"
   ]
  },
  {
   "cell_type": "code",
   "execution_count": 18,
   "id": "56441a30",
   "metadata": {},
   "outputs": [
    {
     "name": "stdout",
     "output_type": "stream",
     "text": [
      "[(400, )]\n"
     ]
    }
   ],
   "source": [
    "average_query = \"SELECT avg(Amount) from orders\"\n",
    "\n",
    "cursor.execute(average_query)\n",
    "print(cursor.fetchall())"
   ]
  },
  {
   "cell_type": "code",
   "execution_count": null,
   "id": "2f594922",
   "metadata": {},
   "outputs": [],
   "source": []
  },
  {
   "cell_type": "code",
   "execution_count": null,
   "id": "0bd51d83",
   "metadata": {},
   "outputs": [],
   "source": []
  },
  {
   "cell_type": "code",
   "execution_count": null,
   "id": "302faaea",
   "metadata": {},
   "outputs": [],
   "source": []
  }
 ],
 "metadata": {
  "kernelspec": {
   "display_name": "Python 3 (ipykernel)",
   "language": "python",
   "name": "python3"
  },
  "language_info": {
   "codemirror_mode": {
    "name": "ipython",
    "version": 3
   },
   "file_extension": ".py",
   "mimetype": "text/x-python",
   "name": "python",
   "nbconvert_exporter": "python",
   "pygments_lexer": "ipython3",
   "version": "3.11.5"
  }
 },
 "nbformat": 4,
 "nbformat_minor": 5
}
