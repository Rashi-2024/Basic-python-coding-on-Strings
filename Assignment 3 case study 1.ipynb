{
 "cells": [
  {
   "cell_type": "code",
   "execution_count": 3,
   "id": "5ba6a8da",
   "metadata": {},
   "outputs": [
    {
     "name": "stdout",
     "output_type": "stream",
     "text": [
      "Type in UP/DOWN/LEFT/RIGHT #step number: UP\n",
      "Type in UP/DOWN/LEFT/RIGHT #step number: UP\n",
      "Type in UP/DOWN/LEFT/RIGHT #step number: UP\n",
      "Type in UP/DOWN/LEFT/RIGHT #step number: DOWN\n",
      "Type in UP/DOWN/LEFT/RIGHT #step number: LEFT\n",
      "Type in UP/DOWN/LEFT/RIGHT #step number: LEFT\n",
      "Type in UP/DOWN/LEFT/RIGHT #step number: RIGHT\n",
      "Type in UP/DOWN/LEFT/RIGHT #step number: RIGHT\n",
      "Type in UP/DOWN/LEFT/RIGHT #step number: \n",
      "Distance: 2.0\n"
     ]
    }
   ],
   "source": [
    "import math\n",
    "\n",
    "x, y = 0, 0\n",
    "\n",
    "while True:\n",
    "    step = input(\"Type in UP/DOWN/LEFT/RIGHT #step number: \")\n",
    "\n",
    "    if step == \"\":\n",
    "        break\n",
    "\n",
    "    else:\n",
    "        step = step.split(\" \")\n",
    "\n",
    "        if step[0] == \"UP\":\n",
    "            y = y + 1\n",
    "        elif step[0] == \"DOWN\":\n",
    "            y = y - 1\n",
    "        elif step[0] == \"LEFT\":\n",
    "            x = x - 1\n",
    "        elif step[0] == \"RIGHT\":\n",
    "            x = x + 1\n",
    "\n",
    "c = math.sqrt(x**2 + y**2)\n",
    "\n",
    "print(\"Distance:\", c)"
   ]
  },
  {
   "cell_type": "code",
   "execution_count": null,
   "id": "1b0921de",
   "metadata": {},
   "outputs": [],
   "source": [
    "print (\"Q2\")\n",
    "sorted_list = [1, 2, 3, 4, 5, 6, 7, 8]\n",
    "print(sorted_list)\n",
    "item = int(input (\"Enter the element that is to be searched in the list\"))\n",
    "for x in sorted_list:\n",
    "    if x == item:\n",
    "        print(x)"
   ]
  },
  {
   "cell_type": "code",
   "execution_count": null,
   "id": "e7e1cc8b",
   "metadata": {},
   "outputs": [],
   "source": [
    "print (\"Q3\")\n",
    "import datetime\n",
    " \n",
    "current_time = datetime.datetime.now()\n",
    "print(\"Current time is: \", current_time)\n",
    "\n",
    "if current_time.hour >= 19 and current_time.hour <= 5 :\n",
    "    print (\"Dark outside\")\n",
    "else:\n",
    "    print(\"Day outside\")\n"
   ]
  },
  {
   "cell_type": "code",
   "execution_count": null,
   "id": "f5585620",
   "metadata": {},
   "outputs": [],
   "source": [
    "print (\"Q5\")\n",
    "print(\"Welcome! Your current amount is 5000\")\n",
    "x = int(input(\"Operations - press 1. Cash withdrawal   2. Cash credit   3.Change password \"))\n",
    "\n",
    "if x == 1:\n",
    "    debit = int(input(\"Enter amount to be Withdrawan \"))\n",
    "    if debit < int(5000):\n",
    "        print(\"Withdrawal successful\")\n",
    "        print(\"Amount remaining\", (int(5000)-debit))\n",
    "    else:\n",
    "        print(\"Withdrawal amount exceeds balance\")\n",
    "\n",
    "if x == 2:\n",
    "    credit = int(input(\"Enter amount to be credited \"))\n",
    "    print(\"Credit successful\")\n",
    "    print(\"Amount remaining\", (int(5000)+credit))\n",
    "\n",
    "if x==3:\n",
    "    password = input(\"Enter the existing password \")\n",
    "    c_password = input(\"Confirm the existing password \")\n",
    "    if password == c_password:\n",
    "        n_password = input(\"Enter new password \")\n",
    "        c_n_password = input(\"Confirm new password\" )\n",
    "        if n_password == c_n_password:\n",
    "            password = n_password\n",
    "            print(\"New password is \",n_password)\n",
    "        else:\n",
    "            print(\"Password doen't match - Try Again\")\n",
    "    else:\n",
    "            print(\"Password doen't match - Try again\")\n"
   ]
  },
  {
   "cell_type": "code",
   "execution_count": null,
   "id": "3160dc56",
   "metadata": {},
   "outputs": [],
   "source": [
    "print (\"Q6\")\n",
    "for i in range (2000, 3201):\n",
    "    if i%7 == 0 and not i%5 == 0:\n",
    "        print (i, end = \", \")"
   ]
  },
  {
   "cell_type": "code",
   "execution_count": null,
   "id": "04f3dee7",
   "metadata": {},
   "outputs": [],
   "source": [
    "print(\"Q7\")\n",
    "num = int(input (\"Enter a number whose factorial needs to be calculated: \"))\n",
    "\n",
    "def factorial(num1):\n",
    "    fact = 1\n",
    "    for i in range(1, num1 +1):\n",
    "        fact = fact*i\n",
    "    return(fact)\n",
    "\n",
    "x = factorial(num)\n",
    "print (x)\n"
   ]
  },
  {
   "cell_type": "code",
   "execution_count": null,
   "id": "1e441b38",
   "metadata": {},
   "outputs": [],
   "source": [
    "import math\n",
    "print(\"Q8\")\n",
    "list1 = [100, 150, 180]\n",
    "\n",
    "def sqrt(d1):\n",
    "    Q = math.sqrt((2*50*d1)/30)\n",
    "    return (Q)\n",
    "\n",
    "for i in list1:\n",
    "    x = sqrt(i)\n",
    "    print(i,\"-->\", x)"
   ]
  },
  {
   "cell_type": "code",
   "execution_count": null,
   "id": "da19ecd2",
   "metadata": {},
   "outputs": [],
   "source": [
    "print(\"Q9\")\n"
   ]
  },
  {
   "cell_type": "code",
   "execution_count": 44,
   "id": "2775c016",
   "metadata": {},
   "outputs": [
    {
     "name": "stdout",
     "output_type": "stream",
     "text": [
      "Q 10\n",
      "Enter an input string seperated by comma without,hello,bag,world\n",
      "bag,hello,without,world\n"
     ]
    }
   ],
   "source": [
    "print(\"Q 10\")\n",
    "string = input(\"Enter an input string seperated by comma \")\n",
    "lis = string.split(\",\")\n",
    "\n",
    "str1=\"\"\n",
    "x = sorted(lis)\n",
    "for element in x:\n",
    "    if x.index(element) == (len(x)-1):\n",
    "        str1 = str1 +element\n",
    "    else:\n",
    "        str1 = str1 +element+','\n",
    "    \n",
    "print(str1)\n",
    "\n"
   ]
  },
  {
   "cell_type": "code",
   "execution_count": 40,
   "id": "41cb0fb6",
   "metadata": {},
   "outputs": [
    {
     "name": "stdout",
     "output_type": "stream",
     "text": [
      "Q11\n",
      "Enter as many as lines as you want, for exit provide an empty input\n",
      "hello, i am rashi\n",
      "what are u doing?\n",
      "\n",
      "HELLO, I AM RASHI\n",
      "WHAT ARE U DOING?\n"
     ]
    }
   ],
   "source": [
    "print(\"Q11\")\n",
    "print(\"Enter as many as lines as you want, for exit provide an empty input\")\n",
    "lis = []\n",
    "\n",
    "while (True):\n",
    "    l = input()\n",
    "    if l:\n",
    "        lis.append(l.upper())\n",
    "    else:\n",
    "        break\n",
    "\n",
    "for i in lis:\n",
    "    print(i)\n"
   ]
  },
  {
   "cell_type": "code",
   "execution_count": 38,
   "id": "4b4b961f",
   "metadata": {},
   "outputs": [
    {
     "name": "stdout",
     "output_type": "stream",
     "text": [
      "Q12\n",
      "Enter a string of words seperated by whitespace, can contain repeated words hello world and practice makes perfect and hello world again\n",
      "again and hello makes perfect practice world \n"
     ]
    }
   ],
   "source": [
    "print(\"Q12\")\n",
    "string = input(\"Enter a string of words seperated by whitespace, can contain repeated words \")\n",
    "lis = string.split()\n",
    "set1 = set(lis)\n",
    "lis1 = list(set1)\n",
    "\n",
    "str1 = \"\"\n",
    "for element in sorted(lis1):\n",
    "    str1 = str1 + element + \" \"\n",
    "    \n",
    "print(str1)"
   ]
  },
  {
   "cell_type": "code",
   "execution_count": 36,
   "id": "4581fb63",
   "metadata": {},
   "outputs": [
    {
     "name": "stdout",
     "output_type": "stream",
     "text": [
      "Q13\n",
      "Enter binary numbers seperated by comma 0100,0011,1010,1001\n",
      "1010\n"
     ]
    }
   ],
   "source": [
    "print (\"Q13\")\n",
    "binary = input(\"Enter binary numbers seperated by comma \")\n",
    "lis1 = binary.split(\",\")\n",
    "\n",
    "str1_r = \"\"\n",
    "for i in lis1:\n",
    "    str1 = \"\"\n",
    "    for j in i:\n",
    "        str1 = j + str1\n",
    "    str1_r = str1_r + str1 + \" \"\n",
    "\n",
    "lis1_r = str1_r.split()\n",
    "\n",
    "for x in lis1_r:\n",
    "    z=0\n",
    "    sum1 = 0\n",
    "    for y in x:\n",
    "        y = int(y)\n",
    "        sum1 = sum1 + y*(2**z)\n",
    "        z=z+1\n",
    "    if sum1%5 ==0:\n",
    "        index = lis1_r.index(x)\n",
    "        print(lis1[index])         "
   ]
  },
  {
   "cell_type": "code",
   "execution_count": 16,
   "id": "bef9c3c8",
   "metadata": {},
   "outputs": [
    {
     "name": "stdout",
     "output_type": "stream",
     "text": [
      "Q14\n",
      "enter string, combination of both upper and lower case 12,23,34,45\n",
      "upper case characters-  0 lower case characters-  0\n"
     ]
    }
   ],
   "source": [
    "print(\"Q14\")\n",
    "string = input(\"enter string, combination of both upper and lower case \")\n",
    "count_u = 0\n",
    "count_l = 0\n",
    "for element in string:\n",
    "    if element.isupper():\n",
    "        count_u += 1\n",
    "    if element.islower():\n",
    "        count_l += 1\n",
    "\n",
    "print(\"upper case characters- \", count_u, \"lower case characters- \", count_l)"
   ]
  },
  {
   "cell_type": "code",
   "execution_count": 12,
   "id": "2a3ba7ac",
   "metadata": {},
   "outputs": [
    {
     "name": "stdout",
     "output_type": "stream",
     "text": [
      "Q15\n",
      "Enter sequence of nmbers for which fsum and sum needs to be calculated 2 3 4 \n",
      "9.0\n",
      "19\n"
     ]
    }
   ],
   "source": [
    "print (\"Q15\")\n",
    "import math \n",
    "arr = input(\"Enter sequence of nmbers for which fsum and sum needs to be calculated \")\n",
    "list1 = arr.split()\n",
    "\n",
    "for i in range(0, len(list1)):\n",
    "    list1[i] = int(list1[i])\n",
    "\n",
    "print(\"fsum of list1 is \", math.fsum(list1))\n",
    "print(\"sum of list1 is provided that start is 10 \", sum(list1, 10))"
   ]
  }
 ],
 "metadata": {
  "kernelspec": {
   "display_name": "Python 3 (ipykernel)",
   "language": "python",
   "name": "python3"
  },
  "language_info": {
   "codemirror_mode": {
    "name": "ipython",
    "version": 3
   },
   "file_extension": ".py",
   "mimetype": "text/x-python",
   "name": "python",
   "nbconvert_exporter": "python",
   "pygments_lexer": "ipython3",
   "version": "3.11.5"
  }
 },
 "nbformat": 4,
 "nbformat_minor": 5
}
